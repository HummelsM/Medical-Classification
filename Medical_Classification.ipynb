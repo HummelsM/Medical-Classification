{
  "metadata": {
    "kernelspec": {
      "language": "python",
      "display_name": "Python 3",
      "name": "python3"
    },
    "language_info": {
      "name": "python",
      "version": "3.10.12",
      "mimetype": "text/x-python",
      "codemirror_mode": {
        "name": "ipython",
        "version": 3
      },
      "pygments_lexer": "ipython3",
      "nbconvert_exporter": "python",
      "file_extension": ".py"
    },
    "kaggle": {
      "accelerator": "none",
      "dataSources": [
        {
          "sourceId": 1857760,
          "sourceType": "datasetVersion",
          "datasetId": 1105311
        }
      ],
      "dockerImageVersionId": 30559,
      "isInternetEnabled": true,
      "language": "python",
      "sourceType": "notebook",
      "isGpuEnabled": false
    },
    "colab": {
      "name": "Medical Classification",
      "provenance": []
    }
  },
  "nbformat_minor": 0,
  "nbformat": 4,
  "cells": [
    {
      "source": [
        "\n",
        "# IMPORTANT: RUN THIS CELL IN ORDER TO IMPORT YOUR KAGGLE DATA SOURCES\n",
        "# TO THE CORRECT LOCATION (/kaggle/input) IN YOUR NOTEBOOK,\n",
        "# THEN FEEL FREE TO DELETE THIS CELL.\n",
        "# NOTE: THIS NOTEBOOK ENVIRONMENT DIFFERS FROM KAGGLE'S PYTHON\n",
        "# ENVIRONMENT SO THERE MAY BE MISSING LIBRARIES USED BY YOUR\n",
        "# NOTEBOOK.\n",
        "\n",
        "import os\n",
        "import sys\n",
        "from tempfile import NamedTemporaryFile\n",
        "from urllib.request import urlopen\n",
        "from urllib.parse import unquote, urlparse\n",
        "from urllib.error import HTTPError\n",
        "from zipfile import ZipFile\n",
        "import tarfile\n",
        "import shutil\n",
        "\n",
        "CHUNK_SIZE = 40960\n",
        "DATA_SOURCE_MAPPING = 'covid-pneumonia-normal-chest-xray-images:https%3A%2F%2Fstorage.googleapis.com%2Fkaggle-data-sets%2F1105311%2F1857760%2Fbundle%2Farchive.zip%3FX-Goog-Algorithm%3DGOOG4-RSA-SHA256%26X-Goog-Credential%3Dgcp-kaggle-com%2540kaggle-161607.iam.gserviceaccount.com%252F20240802%252Fauto%252Fstorage%252Fgoog4_request%26X-Goog-Date%3D20240802T072034Z%26X-Goog-Expires%3D259200%26X-Goog-SignedHeaders%3Dhost%26X-Goog-Signature%3D2d02057dc4fe5f2c04178ae555326785cd936eda9957b7966172d6eb62c2a2118620a539cec4a67bb6790507010400da2e187a7d5ab53f289df49fca37963ad345a85a3ec1a4ef4151befa310a39d38fe3961cab2debe925049a3300e22766a7d39e6c947490ffe892f5437fa0790c7c42ade60a60b547b9162ea1b52b61d153a77049e1206649e8db03a07041a606051428299b2536523847ec109068078f3314ea73e464185ffc82232489effb01f6ce3eaed06ae93fe8d1da2866f4c436976c0130159b8e861aa2d219c1931c8b832e30afc67cd6c79626bf13f63d584a2fcc57b5bf93661b3c308af61dfbac50fac59e654bb2d1c4316be395739fe3b366'\n",
        "\n",
        "KAGGLE_INPUT_PATH='/kaggle/input'\n",
        "KAGGLE_WORKING_PATH='/kaggle/working'\n",
        "KAGGLE_SYMLINK='kaggle'\n",
        "\n",
        "!umount /kaggle/input/ 2> /dev/null\n",
        "shutil.rmtree('/kaggle/input', ignore_errors=True)\n",
        "os.makedirs(KAGGLE_INPUT_PATH, 0o777, exist_ok=True)\n",
        "os.makedirs(KAGGLE_WORKING_PATH, 0o777, exist_ok=True)\n",
        "\n",
        "try:\n",
        "  os.symlink(KAGGLE_INPUT_PATH, os.path.join(\"..\", 'input'), target_is_directory=True)\n",
        "except FileExistsError:\n",
        "  pass\n",
        "try:\n",
        "  os.symlink(KAGGLE_WORKING_PATH, os.path.join(\"..\", 'working'), target_is_directory=True)\n",
        "except FileExistsError:\n",
        "  pass\n",
        "\n",
        "for data_source_mapping in DATA_SOURCE_MAPPING.split(','):\n",
        "    directory, download_url_encoded = data_source_mapping.split(':')\n",
        "    download_url = unquote(download_url_encoded)\n",
        "    filename = urlparse(download_url).path\n",
        "    destination_path = os.path.join(KAGGLE_INPUT_PATH, directory)\n",
        "    try:\n",
        "        with urlopen(download_url) as fileres, NamedTemporaryFile() as tfile:\n",
        "            total_length = fileres.headers['content-length']\n",
        "            print(f'Downloading {directory}, {total_length} bytes compressed')\n",
        "            dl = 0\n",
        "            data = fileres.read(CHUNK_SIZE)\n",
        "            while len(data) > 0:\n",
        "                dl += len(data)\n",
        "                tfile.write(data)\n",
        "                done = int(50 * dl / int(total_length))\n",
        "                sys.stdout.write(f\"\\r[{'=' * done}{' ' * (50-done)}] {dl} bytes downloaded\")\n",
        "                sys.stdout.flush()\n",
        "                data = fileres.read(CHUNK_SIZE)\n",
        "            if filename.endswith('.zip'):\n",
        "              with ZipFile(tfile) as zfile:\n",
        "                zfile.extractall(destination_path)\n",
        "            else:\n",
        "              with tarfile.open(tfile.name) as tarfile:\n",
        "                tarfile.extractall(destination_path)\n",
        "            print(f'\\nDownloaded and uncompressed: {directory}')\n",
        "    except HTTPError as e:\n",
        "        print(f'Failed to load (likely expired) {download_url} to path {destination_path}')\n",
        "        continue\n",
        "    except OSError as e:\n",
        "        print(f'Failed to load {download_url} to path {destination_path}')\n",
        "        continue\n",
        "\n",
        "print('Data source import complete.')\n"
      ],
      "metadata": {
        "id": "MguVupw09keA",
        "outputId": "6566ace5-0c8c-4cb7-dc7b-fc8b925403ba",
        "colab": {
          "base_uri": "https://localhost:8080/"
        }
      },
      "cell_type": "code",
      "outputs": [
        {
          "output_type": "stream",
          "name": "stdout",
          "text": [
            "Downloading covid-pneumonia-normal-chest-xray-images, 290862263 bytes compressed\n",
            "[==================================================] 290862263 bytes downloaded\n",
            "Downloaded and uncompressed: covid-pneumonia-normal-chest-xray-images\n",
            "Data source import complete.\n"
          ]
        }
      ],
      "execution_count": 1
    },
    {
      "cell_type": "code",
      "source": [
        "import tensorflow as tf\n",
        "from tensorflow.keras.preprocessing.image import ImageDataGenerator\n",
        "from tensorflow.keras.applications import ResNet50\n",
        "from tensorflow.keras.layers import Input, Conv2D, MaxPooling2D, UpSampling2D, Concatenate, GlobalAveragePooling2D, Dense\n",
        "from tensorflow.keras.models import Model\n",
        "from tensorflow.keras.optimizers import Adam\n",
        "from keras.metrics import top_k_categorical_accuracy\n",
        "import os\n",
        "import random\n",
        "import shutil\n",
        "import re\n",
        "from sklearn.model_selection import train_test_split"
      ],
      "metadata": {
        "execution": {
          "iopub.status.busy": "2024-08-02T06:30:11.839551Z",
          "iopub.execute_input": "2024-08-02T06:30:11.840824Z",
          "iopub.status.idle": "2024-08-02T06:30:22.694578Z",
          "shell.execute_reply.started": "2024-08-02T06:30:11.840783Z",
          "shell.execute_reply": "2024-08-02T06:30:22.693433Z"
        },
        "trusted": true,
        "id": "GOpS2e4t9keF"
      },
      "execution_count": 2,
      "outputs": []
    },
    {
      "cell_type": "code",
      "source": [
        "data='/kaggle/input/covid-pneumonia-normal-chest-xray-images'\n",
        "output_dir = '/kaggle/working'\n",
        "train_folder = os.path.join(output_dir, 'train')\n",
        "val_folder = os.path.join(output_dir, 'val')\n",
        "test_folder = os.path.join(output_dir, 'test')\n",
        "image_extensions = ['.jpg', '.jpeg', '.png', '.bmp']"
      ],
      "metadata": {
        "execution": {
          "iopub.status.busy": "2024-08-02T06:30:34.638594Z",
          "iopub.execute_input": "2024-08-02T06:30:34.639364Z",
          "iopub.status.idle": "2024-08-02T06:30:34.646237Z",
          "shell.execute_reply.started": "2024-08-02T06:30:34.639322Z",
          "shell.execute_reply": "2024-08-02T06:30:34.64476Z"
        },
        "trusted": true,
        "id": "CWMKG7tD9keG"
      },
      "execution_count": 3,
      "outputs": []
    },
    {
      "cell_type": "code",
      "source": [
        "def extract_label(filename):\n",
        "    # Placeholder: Implement actual label extraction logic if needed\n",
        "    return os.path.basename(os.path.dirname(filename))"
      ],
      "metadata": {
        "execution": {
          "iopub.status.busy": "2024-08-02T06:30:53.444168Z",
          "iopub.execute_input": "2024-08-02T06:30:53.444592Z",
          "iopub.status.idle": "2024-08-02T06:30:53.450594Z",
          "shell.execute_reply.started": "2024-08-02T06:30:53.444558Z",
          "shell.execute_reply": "2024-08-02T06:30:53.44926Z"
        },
        "trusted": true,
        "id": "lyenbYxT9keG"
      },
      "execution_count": 4,
      "outputs": []
    },
    {
      "cell_type": "code",
      "source": [
        "imgs_list = []\n",
        "for root, _, files in os.walk(data):\n",
        "    for filename in files:\n",
        "        if os.path.splitext(filename)[-1].lower() in image_extensions:\n",
        "            img_path = os.path.join(root, filename)\n",
        "            label = extract_label(img_path)\n",
        "            imgs_list.append((img_path, label))\n",
        "\n",
        "# Split data into training, validation, and testing sets\n",
        "if imgs_list:  # Check if any images were found\n",
        "    img_paths = [img_path for img_path, _ in imgs_list]\n",
        "    labels = [label for _, label in imgs_list]\n",
        "\n",
        "    X_train, X_test_val, y_train, y_test_val = train_test_split(\n",
        "        img_paths,\n",
        "        labels,\n",
        "        test_size=0.2,\n",
        "        stratify=labels,\n",
        "        random_state=42\n",
        "    )\n",
        "\n",
        "    X_test, X_val, y_test, y_val = train_test_split(\n",
        "        X_test_val, y_test_val, test_size=0.5, random_state=42\n",
        "    )"
      ],
      "metadata": {
        "execution": {
          "iopub.status.busy": "2024-08-02T06:30:55.303212Z",
          "iopub.execute_input": "2024-08-02T06:30:55.303606Z",
          "iopub.status.idle": "2024-08-02T06:30:58.178054Z",
          "shell.execute_reply.started": "2024-08-02T06:30:55.303577Z",
          "shell.execute_reply": "2024-08-02T06:30:58.176897Z"
        },
        "trusted": true,
        "id": "Yod0w3h29keH"
      },
      "execution_count": 5,
      "outputs": []
    },
    {
      "cell_type": "code",
      "source": [
        "def create_class_subdirectories_and_copy(base_folder, img_paths, labels):\n",
        "    for img_path, label in zip(img_paths, labels):\n",
        "        class_folder = os.path.join(base_folder, label)\n",
        "        if not os.path.exists(class_folder):\n",
        "            os.makedirs(class_folder)\n",
        "        shutil.copy(img_path, os.path.join(class_folder, os.path.basename(img_path)))\n",
        "\n",
        "# Copy images to the appropriate folders\n",
        "create_class_subdirectories_and_copy(train_folder, X_train, y_train)\n",
        "create_class_subdirectories_and_copy(val_folder, X_val, y_val)\n",
        "create_class_subdirectories_and_copy(test_folder, X_test, y_test)\n",
        "\n",
        "# Print file counts to verify\n",
        "print(f\"Train files: {len(X_train)}\")\n",
        "print(f\"Validation files: {len(X_val)}\")\n",
        "print(f\"Test files: {len(X_test)}\")"
      ],
      "metadata": {
        "execution": {
          "iopub.status.busy": "2024-08-02T06:31:02.37302Z",
          "iopub.execute_input": "2024-08-02T06:31:02.373442Z",
          "iopub.status.idle": "2024-08-02T06:31:24.216699Z",
          "shell.execute_reply.started": "2024-08-02T06:31:02.373406Z",
          "shell.execute_reply": "2024-08-02T06:31:24.215526Z"
        },
        "trusted": true,
        "id": "Qv39ZWmC9keH",
        "outputId": "8a3791f9-9865-45cb-9e68-b937685ef2f4",
        "colab": {
          "base_uri": "https://localhost:8080/"
        }
      },
      "execution_count": 6,
      "outputs": [
        {
          "output_type": "stream",
          "name": "stdout",
          "text": [
            "Train files: 4182\n",
            "Validation files: 523\n",
            "Test files: 523\n"
          ]
        }
      ]
    },
    {
      "cell_type": "code",
      "source": [
        "random.seed(42)\n",
        "random.shuffle(imgs_list)"
      ],
      "metadata": {
        "execution": {
          "iopub.status.busy": "2024-08-02T06:31:32.456146Z",
          "iopub.execute_input": "2024-08-02T06:31:32.456667Z",
          "iopub.status.idle": "2024-08-02T06:31:32.467933Z",
          "shell.execute_reply.started": "2024-08-02T06:31:32.45663Z",
          "shell.execute_reply": "2024-08-02T06:31:32.466686Z"
        },
        "trusted": true,
        "id": "wHx04jcP9keI"
      },
      "execution_count": 7,
      "outputs": []
    },
    {
      "cell_type": "code",
      "source": [
        "# Data Augumentation\n",
        "datagen = ImageDataGenerator(\n",
        "    rescale=1.0/255,\n",
        "    samplewise_center=True,\n",
        "    samplewise_std_normalization=True,\n",
        "    rotation_range=40,\n",
        "    width_shift_range=0.2,\n",
        "    height_shift_range=0.2,\n",
        "    shear_range=0.2,\n",
        "    zoom_range=0.2,\n",
        "    horizontal_flip=True,\n",
        "    cval=0,\n",
        "    validation_split=0.2,\n",
        ")"
      ],
      "metadata": {
        "execution": {
          "iopub.status.busy": "2024-08-02T06:31:34.970757Z",
          "iopub.execute_input": "2024-08-02T06:31:34.971686Z",
          "iopub.status.idle": "2024-08-02T06:31:34.977578Z",
          "shell.execute_reply.started": "2024-08-02T06:31:34.971648Z",
          "shell.execute_reply": "2024-08-02T06:31:34.976425Z"
        },
        "trusted": true,
        "id": "gZZiQAWj9keJ"
      },
      "execution_count": 8,
      "outputs": []
    },
    {
      "cell_type": "code",
      "source": [
        "test_datagen = ImageDataGenerator(rescale=1./255)"
      ],
      "metadata": {
        "execution": {
          "iopub.status.busy": "2024-08-02T06:31:41.54455Z",
          "iopub.execute_input": "2024-08-02T06:31:41.545388Z",
          "iopub.status.idle": "2024-08-02T06:31:41.550699Z",
          "shell.execute_reply.started": "2024-08-02T06:31:41.545346Z",
          "shell.execute_reply": "2024-08-02T06:31:41.549473Z"
        },
        "trusted": true,
        "id": "NHzEA0D39keJ"
      },
      "execution_count": 9,
      "outputs": []
    },
    {
      "cell_type": "code",
      "source": [
        "# Create training data generator\n",
        "train_generator = datagen.flow_from_directory(\n",
        "    train_folder,  # Use the correct path here\n",
        "    target_size=(224, 224),\n",
        "    batch_size=64,\n",
        "    class_mode='categorical',\n",
        "    subset='training',\n",
        "    color_mode='rgb',\n",
        "    shuffle=True,\n",
        "    seed=2022\n",
        ")"
      ],
      "metadata": {
        "execution": {
          "iopub.status.busy": "2024-08-02T06:31:43.322629Z",
          "iopub.execute_input": "2024-08-02T06:31:43.323042Z",
          "iopub.status.idle": "2024-08-02T06:31:43.460045Z",
          "shell.execute_reply.started": "2024-08-02T06:31:43.323011Z",
          "shell.execute_reply": "2024-08-02T06:31:43.458925Z"
        },
        "trusted": true,
        "id": "jYBqZGOM9keK",
        "outputId": "ffe1d5ef-8632-4885-9a44-83a1f4a26032",
        "colab": {
          "base_uri": "https://localhost:8080/"
        }
      },
      "execution_count": 10,
      "outputs": [
        {
          "output_type": "stream",
          "name": "stdout",
          "text": [
            "Found 3346 images belonging to 3 classes.\n"
          ]
        }
      ]
    },
    {
      "cell_type": "code",
      "source": [
        "validation_generator = datagen.flow_from_directory(\n",
        "    val_folder,  # Use the correct path here\n",
        "    target_size=(224, 224),\n",
        "    batch_size=64,\n",
        "    class_mode='categorical',\n",
        "    subset='validation',\n",
        "    shuffle=False\n",
        ")"
      ],
      "metadata": {
        "execution": {
          "iopub.status.busy": "2024-08-02T06:31:46.130779Z",
          "iopub.execute_input": "2024-08-02T06:31:46.131177Z",
          "iopub.status.idle": "2024-08-02T06:31:46.150171Z",
          "shell.execute_reply.started": "2024-08-02T06:31:46.131146Z",
          "shell.execute_reply": "2024-08-02T06:31:46.149043Z"
        },
        "trusted": true,
        "id": "J5Fqchr29keL",
        "outputId": "9cb97717-b8cf-422f-b803-be29673f74d6",
        "colab": {
          "base_uri": "https://localhost:8080/"
        }
      },
      "execution_count": 11,
      "outputs": [
        {
          "output_type": "stream",
          "name": "stdout",
          "text": [
            "Found 103 images belonging to 3 classes.\n"
          ]
        }
      ]
    },
    {
      "cell_type": "code",
      "source": [
        "# Initialize the test generator\n",
        "test_generator = test_datagen.flow_from_directory(\n",
        "    test_folder,  # Use the test folder path\n",
        "    target_size=(224, 224),\n",
        "    batch_size=64,\n",
        "    class_mode='categorical',\n",
        "    color_mode='rgb',\n",
        "    shuffle=False  # No need to shuffle the test data\n",
        ")"
      ],
      "metadata": {
        "execution": {
          "iopub.status.busy": "2024-08-02T06:31:52.579666Z",
          "iopub.execute_input": "2024-08-02T06:31:52.580117Z",
          "iopub.status.idle": "2024-08-02T06:31:52.611047Z",
          "shell.execute_reply.started": "2024-08-02T06:31:52.580083Z",
          "shell.execute_reply": "2024-08-02T06:31:52.609987Z"
        },
        "trusted": true,
        "id": "H63c9Bta9keL",
        "outputId": "9de7ae77-de0f-4278-b68e-75e787f157b3",
        "colab": {
          "base_uri": "https://localhost:8080/"
        }
      },
      "execution_count": 12,
      "outputs": [
        {
          "output_type": "stream",
          "name": "stdout",
          "text": [
            "Found 523 images belonging to 3 classes.\n"
          ]
        }
      ]
    },
    {
      "cell_type": "markdown",
      "source": [
        "# **VGG19 Network**"
      ],
      "metadata": {
        "id": "ZCW66YCO9keM"
      }
    },
    {
      "cell_type": "code",
      "source": [
        "from keras.applications import VGG19"
      ],
      "metadata": {
        "execution": {
          "iopub.status.busy": "2024-08-02T06:31:58.338868Z",
          "iopub.execute_input": "2024-08-02T06:31:58.34005Z",
          "iopub.status.idle": "2024-08-02T06:31:58.344863Z",
          "shell.execute_reply.started": "2024-08-02T06:31:58.340009Z",
          "shell.execute_reply": "2024-08-02T06:31:58.343679Z"
        },
        "trusted": true,
        "id": "LVDXDjJx9keN"
      },
      "execution_count": 13,
      "outputs": []
    },
    {
      "cell_type": "code",
      "source": [
        "!pip install tensorflow\n",
        "!pip install keras"
      ],
      "metadata": {
        "id": "hZHcbgkE-N8X",
        "outputId": "781f8b24-ddfe-44d1-d8da-822adb9d785c",
        "colab": {
          "base_uri": "https://localhost:8080/"
        }
      },
      "execution_count": 15,
      "outputs": [
        {
          "output_type": "stream",
          "name": "stdout",
          "text": [
            "Requirement already satisfied: tensorflow in /usr/local/lib/python3.10/dist-packages (2.17.0)\n",
            "Requirement already satisfied: absl-py>=1.0.0 in /usr/local/lib/python3.10/dist-packages (from tensorflow) (1.4.0)\n",
            "Requirement already satisfied: astunparse>=1.6.0 in /usr/local/lib/python3.10/dist-packages (from tensorflow) (1.6.3)\n",
            "Requirement already satisfied: flatbuffers>=24.3.25 in /usr/local/lib/python3.10/dist-packages (from tensorflow) (24.3.25)\n",
            "Requirement already satisfied: gast!=0.5.0,!=0.5.1,!=0.5.2,>=0.2.1 in /usr/local/lib/python3.10/dist-packages (from tensorflow) (0.6.0)\n",
            "Requirement already satisfied: google-pasta>=0.1.1 in /usr/local/lib/python3.10/dist-packages (from tensorflow) (0.2.0)\n",
            "Requirement already satisfied: h5py>=3.10.0 in /usr/local/lib/python3.10/dist-packages (from tensorflow) (3.11.0)\n",
            "Requirement already satisfied: libclang>=13.0.0 in /usr/local/lib/python3.10/dist-packages (from tensorflow) (18.1.1)\n",
            "Requirement already satisfied: ml-dtypes<0.5.0,>=0.3.1 in /usr/local/lib/python3.10/dist-packages (from tensorflow) (0.4.0)\n",
            "Requirement already satisfied: opt-einsum>=2.3.2 in /usr/local/lib/python3.10/dist-packages (from tensorflow) (3.3.0)\n",
            "Requirement already satisfied: packaging in /usr/local/lib/python3.10/dist-packages (from tensorflow) (24.1)\n",
            "Requirement already satisfied: protobuf!=4.21.0,!=4.21.1,!=4.21.2,!=4.21.3,!=4.21.4,!=4.21.5,<5.0.0dev,>=3.20.3 in /usr/local/lib/python3.10/dist-packages (from tensorflow) (3.20.3)\n",
            "Requirement already satisfied: requests<3,>=2.21.0 in /usr/local/lib/python3.10/dist-packages (from tensorflow) (2.31.0)\n",
            "Requirement already satisfied: setuptools in /usr/local/lib/python3.10/dist-packages (from tensorflow) (71.0.4)\n",
            "Requirement already satisfied: six>=1.12.0 in /usr/local/lib/python3.10/dist-packages (from tensorflow) (1.16.0)\n",
            "Requirement already satisfied: termcolor>=1.1.0 in /usr/local/lib/python3.10/dist-packages (from tensorflow) (2.4.0)\n",
            "Requirement already satisfied: typing-extensions>=3.6.6 in /usr/local/lib/python3.10/dist-packages (from tensorflow) (4.12.2)\n",
            "Requirement already satisfied: wrapt>=1.11.0 in /usr/local/lib/python3.10/dist-packages (from tensorflow) (1.16.0)\n",
            "Requirement already satisfied: grpcio<2.0,>=1.24.3 in /usr/local/lib/python3.10/dist-packages (from tensorflow) (1.64.1)\n",
            "Requirement already satisfied: tensorboard<2.18,>=2.17 in /usr/local/lib/python3.10/dist-packages (from tensorflow) (2.17.0)\n",
            "Requirement already satisfied: keras>=3.2.0 in /usr/local/lib/python3.10/dist-packages (from tensorflow) (3.4.1)\n",
            "Requirement already satisfied: tensorflow-io-gcs-filesystem>=0.23.1 in /usr/local/lib/python3.10/dist-packages (from tensorflow) (0.37.1)\n",
            "Requirement already satisfied: numpy<2.0.0,>=1.23.5 in /usr/local/lib/python3.10/dist-packages (from tensorflow) (1.26.4)\n",
            "Requirement already satisfied: wheel<1.0,>=0.23.0 in /usr/local/lib/python3.10/dist-packages (from astunparse>=1.6.0->tensorflow) (0.43.0)\n",
            "Requirement already satisfied: rich in /usr/local/lib/python3.10/dist-packages (from keras>=3.2.0->tensorflow) (13.7.1)\n",
            "Requirement already satisfied: namex in /usr/local/lib/python3.10/dist-packages (from keras>=3.2.0->tensorflow) (0.0.8)\n",
            "Requirement already satisfied: optree in /usr/local/lib/python3.10/dist-packages (from keras>=3.2.0->tensorflow) (0.12.1)\n",
            "Requirement already satisfied: charset-normalizer<4,>=2 in /usr/local/lib/python3.10/dist-packages (from requests<3,>=2.21.0->tensorflow) (3.3.2)\n",
            "Requirement already satisfied: idna<4,>=2.5 in /usr/local/lib/python3.10/dist-packages (from requests<3,>=2.21.0->tensorflow) (3.7)\n",
            "Requirement already satisfied: urllib3<3,>=1.21.1 in /usr/local/lib/python3.10/dist-packages (from requests<3,>=2.21.0->tensorflow) (2.0.7)\n",
            "Requirement already satisfied: certifi>=2017.4.17 in /usr/local/lib/python3.10/dist-packages (from requests<3,>=2.21.0->tensorflow) (2024.7.4)\n",
            "Requirement already satisfied: markdown>=2.6.8 in /usr/local/lib/python3.10/dist-packages (from tensorboard<2.18,>=2.17->tensorflow) (3.6)\n",
            "Requirement already satisfied: tensorboard-data-server<0.8.0,>=0.7.0 in /usr/local/lib/python3.10/dist-packages (from tensorboard<2.18,>=2.17->tensorflow) (0.7.2)\n",
            "Requirement already satisfied: werkzeug>=1.0.1 in /usr/local/lib/python3.10/dist-packages (from tensorboard<2.18,>=2.17->tensorflow) (3.0.3)\n",
            "Requirement already satisfied: MarkupSafe>=2.1.1 in /usr/local/lib/python3.10/dist-packages (from werkzeug>=1.0.1->tensorboard<2.18,>=2.17->tensorflow) (2.1.5)\n",
            "Requirement already satisfied: markdown-it-py>=2.2.0 in /usr/local/lib/python3.10/dist-packages (from rich->keras>=3.2.0->tensorflow) (3.0.0)\n",
            "Requirement already satisfied: pygments<3.0.0,>=2.13.0 in /usr/local/lib/python3.10/dist-packages (from rich->keras>=3.2.0->tensorflow) (2.16.1)\n",
            "Requirement already satisfied: mdurl~=0.1 in /usr/local/lib/python3.10/dist-packages (from markdown-it-py>=2.2.0->rich->keras>=3.2.0->tensorflow) (0.1.2)\n",
            "Requirement already satisfied: keras in /usr/local/lib/python3.10/dist-packages (3.4.1)\n",
            "Requirement already satisfied: absl-py in /usr/local/lib/python3.10/dist-packages (from keras) (1.4.0)\n",
            "Requirement already satisfied: numpy in /usr/local/lib/python3.10/dist-packages (from keras) (1.26.4)\n",
            "Requirement already satisfied: rich in /usr/local/lib/python3.10/dist-packages (from keras) (13.7.1)\n",
            "Requirement already satisfied: namex in /usr/local/lib/python3.10/dist-packages (from keras) (0.0.8)\n",
            "Requirement already satisfied: h5py in /usr/local/lib/python3.10/dist-packages (from keras) (3.11.0)\n",
            "Requirement already satisfied: optree in /usr/local/lib/python3.10/dist-packages (from keras) (0.12.1)\n",
            "Requirement already satisfied: ml-dtypes in /usr/local/lib/python3.10/dist-packages (from keras) (0.4.0)\n",
            "Requirement already satisfied: packaging in /usr/local/lib/python3.10/dist-packages (from keras) (24.1)\n",
            "Requirement already satisfied: typing-extensions>=4.5.0 in /usr/local/lib/python3.10/dist-packages (from optree->keras) (4.12.2)\n",
            "Requirement already satisfied: markdown-it-py>=2.2.0 in /usr/local/lib/python3.10/dist-packages (from rich->keras) (3.0.0)\n",
            "Requirement already satisfied: pygments<3.0.0,>=2.13.0 in /usr/local/lib/python3.10/dist-packages (from rich->keras) (2.16.1)\n",
            "Requirement already satisfied: mdurl~=0.1 in /usr/local/lib/python3.10/dist-packages (from markdown-it-py>=2.2.0->rich->keras) (0.1.2)\n"
          ]
        }
      ]
    },
    {
      "cell_type": "code",
      "source": [
        "import warnings\n",
        "warnings.simplefilter(action='ignore', category=FutureWarning)\n",
        "import os\n",
        "from glob import glob\n",
        "from PIL import Image\n",
        "import numpy as np\n",
        "import pandas as pd\n",
        "import cv2\n",
        "import random\n",
        "import albumentations as A\n",
        "import keras\n",
        "import matplotlib.cm as cm\n",
        "import plotly.express as px\n",
        "import plotly.figure_factory as ffis\n",
        "import matplotlib.pyplot as plt\n",
        "import seaborn as sns\n",
        "from keras.callbacks import ModelCheckpoint, EarlyStopping\n",
        "from sklearn.model_selection import train_test_split\n",
        "from keras.preprocessing import image\n",
        "import tensorflow as tf\n",
        "from sklearn.metrics import confusion_matrix, ConfusionMatrixDisplay, classification_report, recall_score, accuracy_score, precision_score, f1_score\n",
        "from tensorflow.keras.preprocessing.image import ImageDataGenerator\n",
        "from tensorflow.keras.applications import DenseNet201\n",
        "from tensorflow.keras.layers import Input, Conv2D, UpSampling2D, Concatenate, GlobalAveragePooling2D, Dense, Multiply, Reshape\n",
        "from tensorflow.keras.models import Model\n",
        "from tensorflow.keras.optimizers import Adam\n",
        "\n",
        "import numpy as np\n",
        "from keras import layers\n",
        "from keras.layers import Input, Add, Dense, Activation, ZeroPadding2D, BatchNormalization, Flatten, Conv2D, AveragePooling2D, MaxPooling2D, GlobalMaxPooling2D\n",
        "from keras.models import Model, load_model\n",
        "from keras.preprocessing import image\n",
        "#from keras.utils import layer_utils\n",
        "from tensorflow.python.keras.utils import layer_utils\n",
        "#from keras.utils.data_utils import get_file\n",
        "from tensorflow.python.keras.utils.data_utils import get_file\n",
        "from keras.applications.imagenet_utils import preprocess_input\n",
        "import pydot\n",
        "from IPython.display import SVG\n",
        "#from keras.utils.vis_utils import model_to_dot\n",
        "from tensorflow.keras.utils import plot_model\n",
        "from keras.utils import plot_model\n",
        "from keras.initializers import glorot_uniform\n",
        "import scipy.misc\n",
        "from matplotlib.pyplot import imshow\n",
        "%matplotlib inline"
      ],
      "metadata": {
        "execution": {
          "iopub.status.busy": "2024-08-02T06:32:04.685633Z",
          "iopub.execute_input": "2024-08-02T06:32:04.686025Z",
          "iopub.status.idle": "2024-08-02T06:32:08.21965Z",
          "shell.execute_reply.started": "2024-08-02T06:32:04.685994Z",
          "shell.execute_reply": "2024-08-02T06:32:08.218543Z"
        },
        "trusted": true,
        "id": "UnJRTrdN9keO"
      },
      "execution_count": 19,
      "outputs": []
    },
    {
      "cell_type": "code",
      "source": [
        "base_model = VGG19(weights='imagenet', include_top=False)\n",
        "x = base_model.output\n",
        "x = GlobalAveragePooling2D()(x)\n",
        "x = Dense(1024, activation='relu')(x)\n",
        "predictions = Dense(3, activation='softmax')(x)\n",
        "modelV = Model(inputs=base_model.input, outputs=predictions)"
      ],
      "metadata": {
        "execution": {
          "iopub.status.busy": "2024-08-02T06:32:17.200762Z",
          "iopub.execute_input": "2024-08-02T06:32:17.201535Z",
          "iopub.status.idle": "2024-08-02T06:32:21.56031Z",
          "shell.execute_reply.started": "2024-08-02T06:32:17.201498Z",
          "shell.execute_reply": "2024-08-02T06:32:21.559035Z"
        },
        "trusted": true,
        "id": "bxlN0JCj9keO",
        "outputId": "9b6cc5fd-7739-44d9-a127-fc19841a59d8",
        "colab": {
          "base_uri": "https://localhost:8080/"
        }
      },
      "execution_count": 20,
      "outputs": [
        {
          "output_type": "stream",
          "name": "stdout",
          "text": [
            "Downloading data from https://storage.googleapis.com/tensorflow/keras-applications/vgg19/vgg19_weights_tf_dim_ordering_tf_kernels_notop.h5\n",
            "\u001b[1m80134624/80134624\u001b[0m \u001b[32m━━━━━━━━━━━━━━━━━━━━\u001b[0m\u001b[37m\u001b[0m \u001b[1m0s\u001b[0m 0us/step\n"
          ]
        }
      ]
    },
    {
      "cell_type": "code",
      "source": [
        "for layer in base_model.layers:\n",
        "    layer.trainable = False\n",
        "\n",
        "modelV.compile(optimizer=Adam(learning_rate=0.0001), loss='categorical_crossentropy', metrics=['accuracy'])"
      ],
      "metadata": {
        "execution": {
          "iopub.status.busy": "2024-08-02T06:32:24.588569Z",
          "iopub.execute_input": "2024-08-02T06:32:24.588962Z",
          "iopub.status.idle": "2024-08-02T06:32:24.613459Z",
          "shell.execute_reply.started": "2024-08-02T06:32:24.588932Z",
          "shell.execute_reply": "2024-08-02T06:32:24.612331Z"
        },
        "trusted": true,
        "id": "OOJBWfcc9keO"
      },
      "execution_count": 22,
      "outputs": []
    },
    {
      "cell_type": "code",
      "source": [
        "early_stopping = EarlyStopping(\n",
        "    monitor='val_loss',  # Monitor validation loss\n",
        "    patience=20,          # Number of epochs with no improvement to wait\n",
        "    restore_best_weights=True,  # Restore the best model weights when stopping\n",
        ")"
      ],
      "metadata": {
        "execution": {
          "iopub.status.busy": "2024-08-02T06:32:26.758009Z",
          "iopub.execute_input": "2024-08-02T06:32:26.758429Z",
          "iopub.status.idle": "2024-08-02T06:32:26.76516Z",
          "shell.execute_reply.started": "2024-08-02T06:32:26.758394Z",
          "shell.execute_reply": "2024-08-02T06:32:26.763702Z"
        },
        "trusted": true,
        "id": "Po2tFpCx9keP"
      },
      "execution_count": 23,
      "outputs": []
    },
    {
      "cell_type": "code",
      "source": [
        "modelV.fit(train_generator, epochs=20, validation_data=validation_generator, callbacks=[early_stopping])"
      ],
      "metadata": {
        "execution": {
          "iopub.status.busy": "2024-08-02T06:32:32.445708Z",
          "iopub.execute_input": "2024-08-02T06:32:32.446148Z",
          "iopub.status.idle": "2024-08-02T07:20:18.618001Z",
          "shell.execute_reply.started": "2024-08-02T06:32:32.446107Z",
          "shell.execute_reply": "2024-08-02T07:20:18.615769Z"
        },
        "trusted": true,
        "id": "JlKsdwsE9keP",
        "outputId": "884bc5ed-7c2d-419e-d367-bebbb5d957aa",
        "colab": {
          "base_uri": "https://localhost:8080/"
        }
      },
      "execution_count": null,
      "outputs": [
        {
          "output_type": "stream",
          "name": "stdout",
          "text": [
            "Epoch 1/20\n"
          ]
        },
        {
          "output_type": "stream",
          "name": "stderr",
          "text": [
            "/usr/local/lib/python3.10/dist-packages/keras/src/trainers/data_adapters/py_dataset_adapter.py:121: UserWarning: Your `PyDataset` class should call `super().__init__(**kwargs)` in its constructor. `**kwargs` can include `workers`, `use_multiprocessing`, `max_queue_size`. Do not pass these arguments to `fit()`, as they will be ignored.\n",
            "  self._warn_if_super_not_called()\n"
          ]
        }
      ]
    },
    {
      "cell_type": "code",
      "source": [
        "test_loss_v, test_accuracy_v = modelV.evaluate(test_generator, steps=test_generator.samples // test_generator.batch_size)\n",
        "print(f\"Test accuracy: {test_accuracy_v}\")"
      ],
      "metadata": {
        "trusted": true,
        "id": "AmKml6D39keP"
      },
      "execution_count": null,
      "outputs": []
    },
    {
      "cell_type": "markdown",
      "source": [
        "# **Inception Network**"
      ],
      "metadata": {
        "id": "YAgLPP889keP"
      }
    },
    {
      "cell_type": "code",
      "source": [
        "from tensorflow.keras.applications.inception_v3 import InceptionV3\n",
        "base_model = InceptionV3(input_shape = (150, 150, 3), include_top = False, weights = 'imagenet')"
      ],
      "metadata": {
        "trusted": true,
        "id": "WOAkgw_s9keP"
      },
      "execution_count": null,
      "outputs": []
    },
    {
      "cell_type": "code",
      "source": [
        "for layer in base_model.layers:\n",
        "    layer.trainable = False"
      ],
      "metadata": {
        "trusted": true,
        "id": "8GZRG-0R9keP"
      },
      "execution_count": null,
      "outputs": []
    },
    {
      "cell_type": "code",
      "source": [
        "from tensorflow.keras.optimizers import RMSprop\n",
        "\n",
        "x = layers.Flatten()(base_model.output)\n",
        "x = layers.Dense(1024, activation='relu')(x)\n",
        "x = layers.Dropout(0.2)(x)\n",
        "\n",
        "# Add a final sigmoid layer with 1 node for classification output\n",
        "x = layers.Dense(1, activation='softmax')(x)\n",
        "\n",
        "modelI = tf.keras.models.Model(base_model.input, x)\n",
        "\n",
        "modelI.compile(optimizer = RMSprop(lr=0.0001), loss = 'MSE', metrics = ['acc'])"
      ],
      "metadata": {
        "trusted": true,
        "id": "RJ1uFxEF9keQ"
      },
      "execution_count": null,
      "outputs": []
    },
    {
      "cell_type": "code",
      "source": [
        "modelI.fit(train_generator, epochs=20, validation_data=validation_generator, callbacks=[early_stopping])"
      ],
      "metadata": {
        "trusted": true,
        "id": "87RKIZiX9keQ"
      },
      "execution_count": null,
      "outputs": []
    },
    {
      "cell_type": "code",
      "source": [
        "test_loss_i, test_accuracy_i = modelI.evaluate(test_generator, steps=test_generator.samples // test_generator.batch_size)\n",
        "print(f\"Test accuracy: {test_accuracy_i}\")"
      ],
      "metadata": {
        "trusted": true,
        "id": "S-THJC7G9keQ"
      },
      "execution_count": null,
      "outputs": []
    },
    {
      "cell_type": "markdown",
      "source": [
        "# **Comparision and Evaluation of both the networks and their results**"
      ],
      "metadata": {
        "id": "00zl53iD9keQ"
      }
    },
    {
      "cell_type": "code",
      "source": [
        "print('VGG19 Model')\n",
        "modelV.summary()\n",
        "print('InceptionV3')\n",
        "modelI.summary()"
      ],
      "metadata": {
        "trusted": true,
        "id": "SezMQXgn9keQ"
      },
      "execution_count": null,
      "outputs": []
    }
  ]
}